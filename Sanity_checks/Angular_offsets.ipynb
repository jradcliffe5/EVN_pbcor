{
 "cells": [
  {
   "cell_type": "code",
   "execution_count": 1,
   "metadata": {
    "collapsed": true
   },
   "outputs": [],
   "source": [
    "from astropy.coordinates import SkyCoord"
   ]
  },
  {
   "cell_type": "code",
   "execution_count": 4,
   "metadata": {},
   "outputs": [],
   "source": [
    "P1 = SkyCoord('12:37:20.0','62:16:28.00',unit=('hour','deg'))\n",
    "P2 = SkyCoord('12:36:20.0','62:16:28.00',unit=('hour','deg'))\n",
    "HDFN = SkyCoord('12:36:50.0','62:12:58.0',unit=('hour','deg'))\n",
    "HDFC0214 = SkyCoord('12:36:59.3327972','62:18:32.566624',unit=('hour','deg'))"
   ]
  },
  {
   "cell_type": "code",
   "execution_count": 6,
   "metadata": {},
   "outputs": [
    {
     "name": "stdout",
     "output_type": "stream",
     "text": [
      "Separation P1   : 3.18\n",
      "Separation P2   : 5.02\n",
      "Separation HDFN : 5.68\n"
     ]
    }
   ],
   "source": [
    "print 'Separation P1   : %.2f' % HDFC0214.separation(P1).arcmin\n",
    "print 'Separation P2   : %.2f' % HDFC0214.separation(P2).arcmin\n",
    "print 'Separation HDFN : %.2f' % HDFC0214.separation(HDFN).arcmin\n",
    "\n"
   ]
  },
  {
   "cell_type": "code",
   "execution_count": null,
   "metadata": {
    "collapsed": true
   },
   "outputs": [],
   "source": []
  }
 ],
 "metadata": {
  "kernelspec": {
   "display_name": "Python 2",
   "language": "python",
   "name": "python2"
  },
  "language_info": {
   "codemirror_mode": {
    "name": "ipython",
    "version": 2
   },
   "file_extension": ".py",
   "mimetype": "text/x-python",
   "name": "python",
   "nbconvert_exporter": "python",
   "pygments_lexer": "ipython2",
   "version": "2.7.13"
  }
 },
 "nbformat": 4,
 "nbformat_minor": 2
}
