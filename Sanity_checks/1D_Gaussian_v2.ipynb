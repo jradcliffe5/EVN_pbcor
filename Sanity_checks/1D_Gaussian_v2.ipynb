{
 "cells": [
  {
   "cell_type": "code",
   "execution_count": 1,
   "metadata": {
    "collapsed": true
   },
   "outputs": [],
   "source": [
    "import numpy as np\n",
    "def one_D_Gaussian(amplitude,xrang1,xrang2,wavelength,diameter,correction_factor):\n",
    "\tx = np.linspace(xrang1,xrang2,5000,endpoint=True)\n",
    "\tif xrang1 == xrang2:\n",
    "\t\tx = xrang1\n",
    "\tHPBW = ((correction_factor*wavelength)/diameter)*(180/np.pi)*60 ### Code used arcmin as the offset parameter\n",
    "\tsigma = np.sqrt((HPBW*HPBW)/(8*np.log(2)))\n",
    "\ty = amplitude*np.e**((-1*x*x)/(2*(sigma*sigma)))\n",
    "\treturn x, y"
   ]
  },
  {
   "cell_type": "code",
   "execution_count": null,
   "metadata": {
    "collapsed": true
   },
   "outputs": [],
   "source": []
  }
 ],
 "metadata": {
  "kernelspec": {
   "display_name": "Python 2",
   "language": "python",
   "name": "python2"
  },
  "language_info": {
   "codemirror_mode": {
    "name": "ipython",
    "version": 2
   },
   "file_extension": ".py",
   "mimetype": "text/x-python",
   "name": "python",
   "nbconvert_exporter": "python",
   "pygments_lexer": "ipython2",
   "version": "2.7.14"
  }
 },
 "nbformat": 4,
 "nbformat_minor": 2
}
